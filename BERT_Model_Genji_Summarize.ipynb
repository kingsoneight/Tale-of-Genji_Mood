{
  "nbformat": 4,
  "nbformat_minor": 0,
  "metadata": {
    "colab": {
      "provenance": []
    },
    "kernelspec": {
      "name": "python3",
      "display_name": "Python 3"
    },
    "language_info": {
      "name": "python"
    }
  },
  "cells": [
    {
      "cell_type": "code",
      "execution_count": 23,
      "metadata": {
        "id": "4pTn24MI08dX",
        "colab": {
          "base_uri": "https://localhost:8080/"
        },
        "outputId": "c3436e43-eb63-4466-fdd9-fcf61f791fb0"
      },
      "outputs": [
        {
          "output_type": "stream",
          "name": "stderr",
          "text": [
            "[nltk_data] Downloading package vader_lexicon to /root/nltk_data...\n",
            "[nltk_data]   Package vader_lexicon is already up-to-date!\n"
          ]
        }
      ],
      "source": [
        "import nltk\n",
        "import matplotlib.pyplot as plt\n",
        "import numpy as np\n",
        "from nltk.sentiment.vader import SentimentIntensityAnalyzer\n",
        "nltk.download('vader_lexicon')\n",
        "import numpy as np"
      ]
    },
    {
      "cell_type": "code",
      "source": [
        "def read_file(path):\n",
        "  # Read file into an array of strings\n",
        "  lines = []\n",
        "  with open(path, encoding=\"utf8\") as file:\n",
        "      lines = file.readlines()\n",
        "  # Remove newline characters from each line\n",
        "  lines = [line.strip() for line in lines]\n",
        "  return lines"
      ],
      "metadata": {
        "id": "MdKIQx9E1XR9"
      },
      "execution_count": 24,
      "outputs": []
    },
    {
      "cell_type": "code",
      "source": [
        "from google.colab import drive\n",
        "drive.mount('/content/drive')\n",
        "data_dir = \"/content/drive/My Drive/The Tale of Genji (Royall Tyler Translation)(Cleaned - With Titles).txt\"\n",
        "\n",
        "lines = read_file(data_dir)\n",
        "lines[:5]"
      ],
      "metadata": {
        "id": "rr7OqdF11YhI",
        "colab": {
          "base_uri": "https://localhost:8080/"
        },
        "outputId": "aa00f16b-d05c-497f-c47f-8f43433b8ed4"
      },
      "execution_count": 25,
      "outputs": [
        {
          "output_type": "stream",
          "name": "stdout",
          "text": [
            "Drive already mounted at /content/drive; to attempt to forcibly remount, call drive.mount(\"/content/drive\", force_remount=True).\n"
          ]
        },
        {
          "output_type": "execute_result",
          "data": {
            "text/plain": [
              "['1',\n",
              " '',\n",
              " 'KIRITSUBO',\n",
              " '',\n",
              " \"In a certain reign (whose can it have been?) someone of no very great rank, among all His Majesty's Consorts and Intimates, enjoyed exceptional favor. Those others who had always assumed that pride of place was properly theirs despised her as a dreadful woman, while the lesser Intimates were unhappier still. The way she waited on him day after day only stirred up feeling against her, and perhaps this growing burden of resentment was what affected her health and obliged her often to withdraw in misery to her home; but His Majesty, who could less and less do without her, ignored his critics until his behavior seemed bound to be the talk of all.\"]"
            ]
          },
          "metadata": {},
          "execution_count": 25
        }
      ]
    },
    {
      "cell_type": "code",
      "source": [
        "def split_into_chapters(lines):\n",
        "    chapters = []\n",
        "    current_chapter = []\n",
        "    skip_next_line = False\n",
        "\n",
        "    for line in lines:\n",
        "        if line.strip().isdigit():\n",
        "            # Start of a new chapter\n",
        "            if current_chapter:\n",
        "                chapters.append(current_chapter)\n",
        "                current_chapter = []\n",
        "            skip_next_line = True  # Skip the next line (chapter title)\n",
        "        elif skip_next_line:\n",
        "            # Skip this line (chapter title) and continue to the next line\n",
        "            skip_next_line = False\n",
        "            continue\n",
        "        else:\n",
        "            current_chapter.append(line)\n",
        "\n",
        "    if current_chapter:\n",
        "        chapters.append(current_chapter)\n",
        "\n",
        "    return chapters\n",
        "\n",
        "# Read file and split into chapters\n",
        "lines = read_file(data_dir)\n",
        "chapters = split_into_chapters(lines)\n",
        "\n",
        "# Example: print the first few lines of the first chapter's content\n",
        "print(chapters[0][:5])\n"
      ],
      "metadata": {
        "id": "2YfBPg_U1aZu",
        "colab": {
          "base_uri": "https://localhost:8080/"
        },
        "outputId": "8ea2b168-9536-45af-9c4b-342347532309"
      },
      "execution_count": 26,
      "outputs": [
        {
          "output_type": "stream",
          "name": "stdout",
          "text": [
            "['KIRITSUBO', '', \"In a certain reign (whose can it have been?) someone of no very great rank, among all His Majesty's Consorts and Intimates, enjoyed exceptional favor. Those others who had always assumed that pride of place was properly theirs despised her as a dreadful woman, while the lesser Intimates were unhappier still. The way she waited on him day after day only stirred up feeling against her, and perhaps this growing burden of resentment was what affected her health and obliged her often to withdraw in misery to her home; but His Majesty, who could less and less do without her, ignored his critics until his behavior seemed bound to be the talk of all.\", '', 'From this sad spectacle the senior nobles and privy gentlemen could only avert their eyes. Such things had led to disorder and ruin even in China, they said, and as discontent spread through the realm, the example of Yōkihi came more and more to mind, with many a painful consequence for the lady herself; yet she trusted in his gracious and unexampled affection and remained at court.']\n"
          ]
        }
      ]
    },
    {
      "cell_type": "code",
      "source": [
        "from transformers import BartTokenizer, BartForConditionalGeneration\n",
        "\n",
        "# Load model and tokenizer once, outside of the function\n",
        "tokenizer = BartTokenizer.from_pretrained('facebook/bart-large-cnn')\n",
        "model = BartForConditionalGeneration.from_pretrained('facebook/bart-large-cnn')\n",
        "\n",
        "def summarize_chapter(chapter_text, max_length=150, min_length=40, length_penalty=2.0, num_beams=4):\n",
        "    \"\"\"\n",
        "    Summarizes a given chapter text using BART model.\n",
        "    \"\"\"\n",
        "    try:\n",
        "        inputs = tokenizer([chapter_text], max_length=1024, return_tensors='pt', truncation=True)\n",
        "        summary_ids = model.generate(inputs['input_ids'], max_length=max_length, min_length=min_length, length_penalty=length_penalty, num_beams=num_beams, early_stopping=True)\n",
        "        return tokenizer.decode(summary_ids[0], skip_special_tokens=True)\n",
        "    except Exception as e:\n",
        "        # Handle exceptions such as too long texts or tokenization errors\n",
        "        print(f\"Error in summarization: {e}\")\n",
        "        return None\n",
        "\n"
      ],
      "metadata": {
        "id": "G_Hq_HFEF4yF"
      },
      "execution_count": 27,
      "outputs": []
    },
    {
      "cell_type": "code",
      "source": [
        "summary = []\n",
        "for chapter in chapters:\n",
        "  whole_chapter = ''\n",
        "  for each_sentence in chapter:\n",
        "    whole_chapter = whole_chapter + each_sentence\n",
        "\n",
        "  temp = summarize_chapter(whole_chapter)\n",
        "  summary.append(temp)\n",
        "\n",
        "\n",
        "summary[0]"
      ],
      "metadata": {
        "id": "KKg5FC7tHfEc"
      },
      "execution_count": null,
      "outputs": []
    }
  ]
}